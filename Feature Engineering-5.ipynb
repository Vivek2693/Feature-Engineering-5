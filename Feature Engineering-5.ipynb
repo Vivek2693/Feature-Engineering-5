{
 "cells": [
  {
   "cell_type": "markdown",
   "id": "c4a07787",
   "metadata": {},
   "source": [
    "### Q4. For a dataset with the following categorical variables: Color (red, green, blue), Size (small, medium, large), and Material (wood, metal, plastic), perform label encoding using Python's scikit-learn library. Show your code and explain the output.\n"
   ]
  },
  {
   "cell_type": "code",
   "execution_count": 1,
   "id": "c22b1cb5",
   "metadata": {},
   "outputs": [],
   "source": [
    "from sklearn.preprocessing import LabelEncoder\n",
    "\n",
    "data = {\n",
    "    'Color':('red', 'green', 'blue'),\n",
    "     'Size' :('small','medium','large'),\n",
    "      'Material':('wood','metal','plastic')\n",
    "                                           }"
   ]
  },
  {
   "cell_type": "code",
   "execution_count": 4,
   "id": "416cc59a",
   "metadata": {},
   "outputs": [],
   "source": [
    "import pandas as pd\n",
    "df = pd.DataFrame(data)"
   ]
  },
  {
   "cell_type": "code",
   "execution_count": 5,
   "id": "9ab39f23",
   "metadata": {},
   "outputs": [
    {
     "data": {
      "text/html": [
       "<div>\n",
       "<style scoped>\n",
       "    .dataframe tbody tr th:only-of-type {\n",
       "        vertical-align: middle;\n",
       "    }\n",
       "\n",
       "    .dataframe tbody tr th {\n",
       "        vertical-align: top;\n",
       "    }\n",
       "\n",
       "    .dataframe thead th {\n",
       "        text-align: right;\n",
       "    }\n",
       "</style>\n",
       "<table border=\"1\" class=\"dataframe\">\n",
       "  <thead>\n",
       "    <tr style=\"text-align: right;\">\n",
       "      <th></th>\n",
       "      <th>Color</th>\n",
       "      <th>Size</th>\n",
       "      <th>Material</th>\n",
       "    </tr>\n",
       "  </thead>\n",
       "  <tbody>\n",
       "    <tr>\n",
       "      <th>0</th>\n",
       "      <td>red</td>\n",
       "      <td>small</td>\n",
       "      <td>wood</td>\n",
       "    </tr>\n",
       "    <tr>\n",
       "      <th>1</th>\n",
       "      <td>green</td>\n",
       "      <td>medium</td>\n",
       "      <td>metal</td>\n",
       "    </tr>\n",
       "    <tr>\n",
       "      <th>2</th>\n",
       "      <td>blue</td>\n",
       "      <td>large</td>\n",
       "      <td>plastic</td>\n",
       "    </tr>\n",
       "  </tbody>\n",
       "</table>\n",
       "</div>"
      ],
      "text/plain": [
       "   Color    Size Material\n",
       "0    red   small     wood\n",
       "1  green  medium    metal\n",
       "2   blue   large  plastic"
      ]
     },
     "execution_count": 5,
     "metadata": {},
     "output_type": "execute_result"
    }
   ],
   "source": [
    "df"
   ]
  },
  {
   "cell_type": "code",
   "execution_count": 9,
   "id": "9f9e4d13",
   "metadata": {},
   "outputs": [],
   "source": [
    "# Initialize LabelEncoder\n",
    "\n",
    "from sklearn.preprocessing import LabelEncoder\n",
    "\n",
    "\n",
    "label_encoder = LabelEncoder()"
   ]
  },
  {
   "cell_type": "code",
   "execution_count": 11,
   "id": "7fb3cce6",
   "metadata": {},
   "outputs": [],
   "source": [
    "encoded_data = df.apply(label_encoder.fit_transform)\n"
   ]
  },
  {
   "cell_type": "code",
   "execution_count": 12,
   "id": "f783dd47",
   "metadata": {},
   "outputs": [
    {
     "name": "stdout",
     "output_type": "stream",
     "text": [
      "   Color  Size  Material\n",
      "0      2     2         2\n",
      "1      1     1         0\n",
      "2      0     0         1\n"
     ]
    }
   ],
   "source": [
    "print(encoded_data)\n"
   ]
  },
  {
   "cell_type": "markdown",
   "id": "d75a639a",
   "metadata": {},
   "source": [
    "### Q5. Calculate the covariance matrix for the following variables in a dataset: Age, Income, and Education level. Interpret the results."
   ]
  },
  {
   "cell_type": "code",
   "execution_count": 13,
   "id": "aafbd9ef",
   "metadata": {},
   "outputs": [
    {
     "name": "stdout",
     "output_type": "stream",
     "text": [
      "Covariance Matrix:\n",
      "[[6.25e+01 6.25e+04 2.25e+01]\n",
      " [6.25e+04 6.25e+07 2.25e+04]\n",
      " [2.25e+01 2.25e+04 1.00e+01]]\n"
     ]
    }
   ],
   "source": [
    "import numpy as np\n",
    "\n",
    "# Sample data for Age, Income, and Education Level\n",
    "age = [30, 40, 50, 35, 45]\n",
    "income = [50000, 60000, 70000, 55000, 65000]\n",
    "education_level = [12, 16, 18, 14, 20]\n",
    "\n",
    "# Create a numpy array with the data\n",
    "data = np.array([age, income, education_level])\n",
    "\n",
    "# Calculate the covariance matrix\n",
    "covariance_matrix = np.cov(data)\n",
    "\n",
    "print(\"Covariance Matrix:\")\n",
    "print(covariance_matrix)\n"
   ]
  },
  {
   "cell_type": "raw",
   "id": "f9f82f66",
   "metadata": {},
   "source": [
    "The covariance matrix will show the pairwise covariances between the variables. Interpretation of the results:\n",
    "\n",
    "The element at position (1,1) of the covariance matrix represents the covariance between Age and Age, which is the variance of Age.\n",
    "The element at position (2,2) represents the covariance between Income and Income, which is the variance of Income.\n",
    "The element at position (3,3) represents the covariance between Education Level and Education Level, which is the variance of Education Level.\n",
    "The off-diagonal elements represent the covariances between different pairs of variables."
   ]
  },
  {
   "cell_type": "markdown",
   "id": "36fc88b1",
   "metadata": {},
   "source": [
    "### Q6. You are working on a machine learning project with a dataset containing several categorical variables, including \"Gender\" (Male/Female), \"Education Level\" (High School/Bachelor's/Master's/PhD), and \"Employment Status\" (Unemployed/Part-Time/Full-Time). Which encoding method would you use for each variable, and why?\n",
    "For \"Gender\", since there are only two categories (Male/Female), you can use binary encoding or label encoding. Binary encoding assigns 0 or 1 to each category, while label encoding assigns 0 and 1 arbitrarily to the categories. Either method can be used, but binary encoding might be preferred for its simplicity and clarity.\n",
    "\n",
    "For \"Education Level\", since there is an ordinal relationship among the categories (High School < Bachelor's < Master's < PhD), you can use ordinal encoding. Ordinal encoding assigns numerical values based on the order or rank of the categories, preserving the ordinal relationship.\n",
    "\n",
    "For \"Employment Status\", since there is no intrinsic order among the categories (Unemployed, Part-Time, Full-Time), you can use one-hot encoding. One-hot encoding creates binary columns for each category, indicating its presence or absence in each observation. This allows the model to learn the categorical nature of the variable without assuming any ordinal relationship.\n",
    "\n",
    "### Q7. You are analyzing a dataset with two continuous variables, \"Temperature\" and \"Humidity\", and two categorical variables, \"Weather Condition\" (Sunny/Cloudy/Rainy) and \"Wind Direction\" (North/South/East/West). Calculate the covariance between each pair of variables and interpret the results."
   ]
  },
  {
   "cell_type": "code",
   "execution_count": 14,
   "id": "5b6aaeaf",
   "metadata": {},
   "outputs": [
    {
     "name": "stdout",
     "output_type": "stream",
     "text": [
      "Covariance Matrix:\n",
      "[[ 5.7   9.   -1.05 -1.8 ]\n",
      " [ 9.   14.5  -2.   -2.75]\n",
      " [-1.05 -2.    0.7  -0.05]\n",
      " [-1.8  -2.75 -0.05  1.7 ]]\n"
     ]
    }
   ],
   "source": [
    "import numpy as np\n",
    "\n",
    "# Sample data\n",
    "temperature = [25, 28, 22, 24, 27]\n",
    "humidity = [60, 65, 55, 58, 62]\n",
    "weather_condition = [1, 0, 2, 1, 2]  # Sunny=0, Cloudy=1, Rainy=2\n",
    "wind_direction = [0, 1, 2, 3, 0]  # North=0, South=1, East=2, West=3\n",
    "\n",
    "# Create a numpy array with the data\n",
    "data = np.array([temperature, humidity, weather_condition, wind_direction])\n",
    "\n",
    "# Calculate the covariance matrix\n",
    "covariance_matrix = np.cov(data)\n",
    "\n",
    "print(\"Covariance Matrix:\")\n",
    "print(covariance_matrix)\n"
   ]
  },
  {
   "cell_type": "raw",
   "id": "0fa95e73",
   "metadata": {},
   "source": [
    "The element at position (1,1) represents the covariance between Temperature and Temperature, which is the variance of Temperature.\n",
    "The element at position (2,2) represents the covariance between Humidity and Humidity, which is the variance of Humidity.\n",
    "The off-diagonal elements represent the covariances between different pairs of variables. For example, the element at position (1,2) represents the covariance between Temperature and Humidity.\n",
    "Positive covariances indicate that the variables tend to move in the same direction, while negative covariances indicate that they move in opposite directions."
   ]
  },
  {
   "cell_type": "code",
   "execution_count": null,
   "id": "4dc3d47c",
   "metadata": {},
   "outputs": [],
   "source": []
  }
 ],
 "metadata": {
  "kernelspec": {
   "display_name": "Python 3 (ipykernel)",
   "language": "python",
   "name": "python3"
  },
  "language_info": {
   "codemirror_mode": {
    "name": "ipython",
    "version": 3
   },
   "file_extension": ".py",
   "mimetype": "text/x-python",
   "name": "python",
   "nbconvert_exporter": "python",
   "pygments_lexer": "ipython3",
   "version": "3.10.9"
  }
 },
 "nbformat": 4,
 "nbformat_minor": 5
}
